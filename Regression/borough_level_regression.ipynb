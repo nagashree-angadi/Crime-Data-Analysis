{
 "cells": [
  {
   "cell_type": "code",
   "execution_count": null,
   "metadata": {},
   "outputs": [],
   "source": [
    "# Imports\n",
    "from pyspark.sql import SparkSession\n",
    "from pyspark.sql import Row\n",
    "from pyspark.sql.functions import lit\n",
    "from pyspark.sql.types import StringType\n",
    "from pyspark.sql.types import DoubleType\n",
    "from pyspark.sql.functions import year\n",
    "from pyspark.ml.feature import VectorAssembler\n",
    "from pyspark.ml.regression import LinearRegression\n",
    "from pyspark.ml.feature import MinMaxScaler\n",
    "from pyspark.sql.functions import col\n",
    "from pyspark.sql.functions import concat\n",
    "import pyspark.sql.functions as fn\n",
    "from scipy import stats\n",
    "import pandas as pd\n",
    "import numpy as np\n",
    "import shapefile\n",
    "import six"
   ]
  },
  {
   "cell_type": "code",
   "execution_count": 10,
   "metadata": {},
   "outputs": [],
   "source": [
    "# Linear regression analysis to find the relationship between the given two variable \n",
    "\n",
    "# Inbuilt linear regression\n",
    "def linear_regression_inbuilt(data, dependent_vars):\n",
    "    vectorAssembler = VectorAssembler(inputCols = dependent_vars, outputCol = 'features')\n",
    "    vector_df = vectorAssembler.transform(data)\n",
    "    vector_df = vector_df.select(['features', 'crime_count'])\n",
    "#     glr = GeneralizedLinearRegression(family=\"binomial\", link=\"logit\", maxIter=10, regParam=0.0)\n",
    "#     lr_model = glr.fit(data)\n",
    "    lr = LinearRegression(featuresCol = 'features', labelCol='crime_count', maxIter=10, regParam=0.3, elasticNetParam=0.8)\n",
    "    lr_model = lr.fit(vector_df)\n",
    "    return lr_model\n",
    "\n",
    "# Custom multivariate linear regression\n",
    "def linear_regression(data, indexes):\n",
    "\n",
    "    # Gathering the data for linear regression\n",
    "    x = []\n",
    "    y = [] \n",
    "    for each in data:\n",
    "        x_s = [ float(each[index]) for index in indexes if each[index] != None]\n",
    "        if len(x_s) == len(indexes):\n",
    "            x.append(x_s)\n",
    "            y.append(float(each[1]))\n",
    "            \n",
    "    # Preparing the data for linear regression\n",
    "    N = len(x)\n",
    "    M = len(indexes)\n",
    "    df = N - (1+M)\n",
    "    X = np.reshape(x,(N,M))\n",
    "    Y = np.reshape(y,(len(y),1))\n",
    "    \n",
    "    if df <= 0:\n",
    "        return -1\n",
    "    \n",
    "    if N > 1:\n",
    "        X = (X - np.mean(X,axis=0))/np.std(X,axis=0)\n",
    "        Y = (Y - np.mean(Y))/ np.std(Y)\n",
    "    \n",
    "    # Linear regression\n",
    "    X = np.hstack((X,np.ones((N,1))))\n",
    "    X_t = np.transpose(X)\n",
    "    X_inv = np.linalg.pinv(np.dot(X_t,X))\n",
    "    weights = np.dot( np.dot(X_inv,X_t) ,Y)\n",
    "    \n",
    "    # Finding the p-value\n",
    "    rss = np.sum(np.power((Y - np.dot(X, weights)), 2))\n",
    "    s_squared = rss / df\n",
    "    se = np.sum(np.power((X[:, 0]), 2))\n",
    "    tt = (weights[0, 0] / np.sqrt(s_squared / se))\n",
    "    pval = stats.t.sf(np.abs(tt), df) \n",
    "    \n",
    "    # Returning the betas and pvalue\n",
    "    return weights[0][0],pval"
   ]
  },
  {
   "cell_type": "code",
   "execution_count": 7,
   "metadata": {},
   "outputs": [],
   "source": [
    "# Creating the spark context\n",
    "spark = SparkSession.builder.master(\"local[*]\").getOrCreate()\n",
    "\n",
    "# Reading the data\n",
    "crime_data = spark.read.json(\"hdfs://home/udit_gupta_1/processed_data/\")\n",
    "demographics = spark.read.option(\"header\", \"true\").csv(\"../Data/borough_demographics.csv\")\n",
    "\n",
    "# Preparing data for linear regression\n",
    "# Finding borough level aggregate\n",
    "complaints = crime_data.rdd.filter(lambda row: row['RECORD_TYPE'] == 'C').toDF()\n",
    "complaints_df = complaints.filter(col(\"Year\").isin(keep_column))\n",
    "complaints_df = complaints_df.filter(col(\"BORO_NM\").isin(list(boro_dict.values())))\n",
    "complaints_df = complaints_df.withColumn(\"Key\",fn.concat(fn.col(\"BORO_NM\"),fn.col(\"Year\")))\n",
    "crime_count = complaints_df.groupby(\"Key\").agg(fn.count(col('CMPLNT_NUM')).alias('crime_count'))\n",
    "\n",
    "# Casting the data to suitable types \n",
    "demographics = demographics.withColumn(\"unemployment_rate\", demographics[\"unemployment_rate\"].cast(DoubleType()))\n",
    "demographics = demographics.withColumn(\"racial_diversity\", demographics[\"racial_diversity\"].cast(DoubleType()))\n",
    "demographics = demographics.withColumn(\"income_diversity\", demographics[\"income_diversity\"].cast(DoubleType()))\n",
    "demographics = demographics.withColumn(\"proverty_rate\", demographics[\"proverty_rate\"].cast(DoubleType()))\n",
    "demographics = demographics.withColumn(\"population\", demographics[\"population\"].cast(DoubleType()))\n",
    "\n",
    "# Combining Data\n",
    "final_data = crime_count.join(demographics, crime_count.Key == demographics.Demo_Key)\n",
    "final_data = final_data.drop('Demo_Key')\n",
    "demo_crime_data = final_data.rdd.map(list).collect()"
   ]
  },
  {
   "cell_type": "code",
   "execution_count": 16,
   "metadata": {},
   "outputs": [
    {
     "name": "stdout",
     "output_type": "stream",
     "text": [
      "Correlation between crime_count and crime_count 1.0\n",
      "Correlation between crime_count and proverty_rate 0.1895440726873476\n",
      "Correlation between crime_count and income_diversity -0.19683924650147086\n",
      "Correlation between crime_count and racial_diversity 0.2940662008177049\n",
      "Correlation between crime_count and unemployment_rate -0.20042337200923163\n",
      "Correlation between crime_count and population 0.3918328051254336\n"
     ]
    }
   ],
   "source": [
    "# Correlation between the crime_count and other demographics data\n",
    "for i in final_data.columns:\n",
    "    if not( isinstance(final_data.select(i).take(1)[0][0], six.string_types)):\n",
    "        print( \"Correlation between crime_count and\", i, final_data.stat.corr('crime_count',i))"
   ]
  },
  {
   "cell_type": "code",
   "execution_count": 11,
   "metadata": {},
   "outputs": [
    {
     "name": "stdout",
     "output_type": "stream",
     "text": [
      "r2: 0.040170\n"
     ]
    }
   ],
   "source": [
    "# Inbuilt linear regression                                      \n",
    "lr_model = linear_regression_inbuilt(final_data, [\"unemployment_rate\"])\n",
    "model_summary = lr_model.summary\n",
    "print(\"r2: %f\" % model_summary.r2)"
   ]
  },
  {
   "cell_type": "markdown",
   "metadata": {},
   "source": [
    "### Hyothesis Testing\n",
    "- Level of Significance is 0.05\n",
    "- The null hypthesis states that demographic factor don't effect the crime count.\n",
    "- The null hypothesis is rejected if the pvalue is less than 0.05.\n",
    "- The null hypothesis is not rejected if the pvalue is greater than 0.05.\n",
    "\n",
    "Below we are printing the pvalues for linear regression between crime rate and various demographic factors. "
   ]
  },
  {
   "cell_type": "code",
   "execution_count": 19,
   "metadata": {},
   "outputs": [
    {
     "name": "stdout",
     "output_type": "stream",
     "text": [
      "Significance of various demographic factors with crime_rate\n",
      "crime_rate vs proverty_rate 0.06523546120848842\n",
      "crime_rate vs income_diversity 0.03606532612160858\n",
      "crime_rate vs racial_diversity 0.008711275823851098\n",
      "crime_rate vs unemployment_rate 0.05471047391610688\n",
      "\n",
      "Significance of various demographic factors with crime_rate controlled by population\n",
      "crime_rate vs proverty_rate controlled by population 0.1829580286423675\n",
      "crime_rate vs income_diversity controlled by population 0.04857684388345955\n",
      "crime_rate vs racial_diversity controlled by population 0.00022642815530583585\n",
      "crime_rate vs unemployment_rate controlled by population  0.012688870210739571\n"
     ]
    }
   ],
   "source": [
    "print(\"Significance of various demographic factors with crime_rate\")\n",
    "print(\"crime_rate vs proverty_rate \"+str(linear_regression(demo_crime_data, [4])[1]))\n",
    "print(\"crime_rate vs income_diversity \"+ str(linear_regression(demo_crime_data, [5])[1]))\n",
    "print(\"crime_rate vs racial_diversity \"+str(linear_regression(demo_crime_data, [6])[1]))\n",
    "print(\"crime_rate vs unemployment_rate \"+str(linear_regression(demo_crime_data, [7])[1]))\n",
    "\n",
    "print(\"\\nSignificance of various demographic factors with crime_rate controlled by population\")\n",
    "print(\"crime_rate vs proverty_rate controlled by population \"+str(linear_regression(demo_crime_data, [4,8])[1]))\n",
    "print(\"crime_rate vs income_diversity controlled by population \"+ str(linear_regression(demo_crime_data, [5,8])[1]))\n",
    "print(\"crime_rate vs racial_diversity controlled by population \"+str(linear_regression(demo_crime_data, [6,8])[1]))\n",
    "print(\"crime_rate vs unemployment_rate controlled by population  \"+str(linear_regression(demo_crime_data, [7,8])[1]))"
   ]
  }
 ],
 "metadata": {
  "kernelspec": {
   "display_name": "Python 3",
   "language": "python",
   "name": "python3"
  },
  "language_info": {
   "codemirror_mode": {
    "name": "ipython",
    "version": 3
   },
   "file_extension": ".py",
   "mimetype": "text/x-python",
   "name": "python",
   "nbconvert_exporter": "python",
   "pygments_lexer": "ipython3",
   "version": "3.7.7"
  }
 },
 "nbformat": 4,
 "nbformat_minor": 4
}
